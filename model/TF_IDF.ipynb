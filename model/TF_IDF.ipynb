{
  "nbformat": 4,
  "nbformat_minor": 0,
  "metadata": {
    "colab": {
      "provenance": []
    },
    "kernelspec": {
      "name": "python3",
      "display_name": "Python 3"
    },
    "language_info": {
      "name": "python"
    }
  },
  "cells": [
    {
      "cell_type": "code",
      "execution_count": 32,
      "metadata": {
        "id": "VujHCHvczO4I"
      },
      "outputs": [],
      "source": [
        "from sklearn.feature_extraction.text import TfidfVectorizer\n",
        "import numpy as np\n",
        "\n",
        "def initialize_tfidf(file_path):\n",
        "    # Открываем файл и читаем его содержимое\n",
        "    with open(file_path, 'r', encoding='utf-8') as f:\n",
        "        documents = f.readlines()\n",
        "\n",
        "    # Инициализация TfidfVectorizer\n",
        "    vectorizer = TfidfVectorizer(max_features=50000, stop_words='english')\n",
        "\n",
        "    # Применение TF-IDF ко всему тексту\n",
        "    tfidf_matrix = vectorizer.fit_transform(documents)\n",
        "\n",
        "    return vectorizer, tfidf_matrix\n",
        "\n",
        "def reduce_text(text, vectorizer, tfidf_matrix, threshold=0.1):\n",
        "    # Токенизация текста и преобразование в вектор TF-IDF\n",
        "    tfidf_vector = vectorizer.transform([text])\n",
        "\n",
        "    # Получаем имена признаков (слов)\n",
        "    feature_names = np.array(vectorizer.get_feature_names_out())\n",
        "\n",
        "    # Индексы слов, у которых вес выше порогового значения\n",
        "    significant_indices = np.where(tfidf_vector.toarray() > threshold)[1]\n",
        "\n",
        "    # Извлекаем важные слова\n",
        "    reduced_text = ' '.join(feature_names[significant_indices])\n",
        "\n",
        "    return reduced_text\n",
        "\n",
        "def new_reduced_func(text, vectorizer):\n",
        "    # Токенизация текста и преобразование в вектор TF-IDF\n",
        "    tfidf_vector = vectorizer.transform([text])\n",
        "\n",
        "    # Получаем имена признаков (слов)\n",
        "    feature_names = np.array(vectorizer.get_feature_names_out())\n",
        "\n",
        "    # Преобразуем вектор в массив и сортируем веса\n",
        "    tfidf_values = tfidf_vector.toarray().flatten()\n",
        "    sorted_indices = np.argsort(tfidf_values)[::-1]  # Сортировка от большего к меньшему\n",
        "\n",
        "    # Рассчитываем порог, чтобы оставить ~50% слов\n",
        "    num_words_to_keep = max(1, len(sorted_indices) // 2)  # Оставляем половину слов\n",
        "    significant_indices = sorted_indices[:num_words_to_keep]  # Берем топ 50% по весу\n",
        "\n",
        "    # Извлекаем важные слова\n",
        "    reduced_text = ' '.join(feature_names[significant_indices])\n",
        "\n",
        "    return reduced_text"
      ]
    },
    {
      "cell_type": "code",
      "source": [
        "vectorizer, tfidf_matrix = initialize_tfidf('/content/ReadMe.txt')"
      ],
      "metadata": {
        "id": "J-aTsnSZ1YeI"
      },
      "execution_count": 33,
      "outputs": []
    },
    {
      "cell_type": "code",
      "source": [
        "with open('/content/ReadMe.txt', 'r', encoding='utf-8') as f:\n",
        "  documents = f.readlines()"
      ],
      "metadata": {
        "id": "ftWPX5xX20AG"
      },
      "execution_count": 24,
      "outputs": []
    },
    {
      "cell_type": "code",
      "source": [
        "print(documents)"
      ],
      "metadata": {
        "colab": {
          "base_uri": "https://localhost:8080/"
        },
        "id": "R5BmqD1-3muA",
        "outputId": "6b2648fc-603b-4725-d13d-3b4e27df3949"
      },
      "execution_count": 25,
      "outputs": [
        {
          "output_type": "stream",
          "name": "stdout",
          "text": [
            "['Описание данных.\\n', '\\n', 'Данные состоят из двух входных артефактов: регламенты сертификации и требования на разработку. Регламенты описаны для каждого объекта регулирования, а требования на каждую систему.\\n', '\\n', 'В рамках кейсового задания на тестировочных данных могут быть следующие объекты:\\n', 'EMC, Doors, Steering mechanism, Braking, Safety belt, Seats, Audible warning devices, Speedometer and odometer, Steering equipment, Heating system, AVAS, wipe and wash.\\n', 'Обратите внимание, что названия объектов могут перекликаться, например Steering mechanism и Steering equipment. А название системы может быть Steering Wheel,\\n', '- ее нужно будет проверить по обоим регламентам.\\n', 'Также названия объектов могут как повторять частично или полностью названия регламентов, так и отличаться. Например, регламент может обозначаться Heating system,\\n', 'а система называться HVAC, - это система кондиционирования, которая должна проверена по этому регламенту.\\n', '\\n', 'Структура данных.\\n', '\\n', '1. Регламенты сертификации\\n', 'В данной папке располагаются регламенты по некоторым системам автомобиля. Регламенты могут быть разных типов, но стоит обратить внимание на структуру документов.\\n', 'Регламенты содержат следующие главы: определения, технические требования, методы тестирования и другие. Наиболее важное значение имеет раздел технических требований,\\n', 'по которому как раз нужно будет производить проверку.\\n', '\\n', '2. Бизнес-требования к разработке\\n', 'Эта папка содержит некоторые требования к системам на уровне бизнеса, которые обозначаются в формате use cases (подробнее о формате в документе \"What is use case\").\\n', 'Каждый кейс выгружен из системы менеджмента требований в отдельный документ, документы структурированы по папкам - системам автомобиля.\\n', 'Обратите внимание, система может иметь несколько объектов регулирования, ровно как и наоборот - регламент может накладываться на несколько систем.\\n', '\\n', 'Описание ожидаемого результата работы алгоритма.\\n', '\\n', 'Документ позволяет увидеть ожидаемый результат работы алгоритма, в частности обозначает типы возможных комментариев. Стоит принять во внимание,\\n', ' что приведенные комментарии имеют человеко-характерный стиль, и результат обработки с помощью ИИ может отличаться по формату и содержанию от примеров.\\n', '\\n', 'Описание пользовательского пути:\\n', '1. Пользователь загружает одно или несколько новых требований (use case) в систему.\\n', '2. Система определяет, подлежит ли требование сертификации.\\n', '3. Если требование содержит объекты регулирования, то система производит проверку с необходимым регламентом.\\n', '4. Система моментально оставляет соответствующий комментарий о результатах проверки одного требования или предлагает выгрузить отчет о статусах проверки нескольких требований.\\n', '\\n', 'Подробный пример см. в докумете \"Описание ожидаемого результата работы алгоритма\"\\n', '\\n', 'за 1 час до стопкода вам будет выдан тестовый датасет того же формата что и train датасет, но в нем будут дополнительные “Бизнес-требования к разработке”\\n', ' (не только те 3, что представлены в train датасете).\\n', '\\n', '! РЕЗУЛЬТАТ РАБОТЫ РЕШЕНИЯ НА ТЕСТОВОМ ДАТАСЕТЕ ПРЕДСТАВТЬЕ В ВИДЕ ПАПКИ С НАЗВАНИЕМ “РЕЗУЛЬТАТ РАБОТЫ РЕШЕНИЯ НА ТЕСТОВОМ ДАТАСЕТЕ”, РАЗМЕСТИТЕ ЕЕ НА ГИТХАБЕ В КОРНЕ ПРОЕКТА']\n"
          ]
        }
      ]
    },
    {
      "cell_type": "code",
      "source": [
        "text = '''Agreement\n",
        "\n",
        "Concerning the Adoption of Harmonized Technical United Nations Regulations for Wheeled Vehicles, Equipment and Parts which can be Fitted and/or be Used on Wheeled Vehicles and the Conditions for Reciprocal Recognition of Approvals Granted on the Basis of these United Nations Regulations*\n",
        "(Revision 3, including the amendments which entered into force on 14 September 2017)\n",
        "\n",
        "\n",
        "Addendum 137: UN Regulation No. 138\n",
        "\n",
        "Revision 1\n",
        "01 series of amendments- Date of entry into force: 10 October 2017\n",
        "Supplement 1 to the 01 series of amendments - Date of entry into force: 11 January 2020 Supplement 2 to the 01 series of amendments - Date of entry into force: 3 January 2021\n",
        "\n",
        "Uniform provisions concerning the approval of Quiet Road Transport Vehicles with regard to their reduced audibility\n",
        "\n",
        "This document is meant purely as documentation tool. The authentic and legal binding texts are: ECE/TRANS/WP.29/2016/26, ECE/TRANS/WP.29/2017/6, ECE/TRANS/WP.29/2017/7, as\n",
        "amended by paragraph 67. of the report (ECE/TRANS/WP.29/1129)\n",
        "\n",
        "\n",
        "\n",
        "UNITED NATIONS\n",
        "'''"
      ],
      "metadata": {
        "id": "EqGgOiCu5d1i"
      },
      "execution_count": 34,
      "outputs": []
    },
    {
      "cell_type": "code",
      "source": [
        "reduce_text(text, vectorizer, tfidf_matrix, 0.05)"
      ],
      "metadata": {
        "colab": {
          "base_uri": "https://localhost:8080/",
          "height": 36
        },
        "id": "R3Nyj89-2RYL",
        "outputId": "8ef3a3e8-f42e-4c4b-b04c-3387bfcc52be"
      },
      "execution_count": 35,
      "outputs": [
        {
          "output_type": "execute_result",
          "data": {
            "text/plain": [
              "'equipment'"
            ],
            "application/vnd.google.colaboratory.intrinsic+json": {
              "type": "string"
            }
          },
          "metadata": {},
          "execution_count": 35
        }
      ]
    },
    {
      "cell_type": "code",
      "source": [
        "new_reduced_func(text, vectorizer)"
      ],
      "metadata": {
        "colab": {
          "base_uri": "https://localhost:8080/",
          "height": 140
        },
        "id": "GlmQ4Oow3inE",
        "outputId": "00b311d4-8982-4e3d-c572-4e41a0fab7f0"
      },
      "execution_count": 36,
      "outputs": [
        {
          "output_type": "execute_result",
          "data": {
            "text/plain": [
              "'equipment этому каждую которые которому которая корне кондиционирования комментарий комментарии комментариев кейсового кейс как каждый каждого менеджмента имеют иметь имеет или ии из значение задания загружает за же если ли методы другие могут обоим обозначаются обозначаться обозначает нужно новых но несколько нескольких необходимым нем некоторым некоторые не например наоборот накладываться наиболее называться названия названием название на моментально может ее дополнительные обратите seats бизнес артефактов алгоритма автомобиля wipe wheel wash warning use train steering speedometer safety должна odometer mechanism hvac heating emc doors devices cases case braking belt avas бизнеса будет будут быть докумете документы документов документе документ до для двух датасете датасет данных данные данной главы гитхабе выдан выгрузить выгружен входных возможных во внимание виде вам важное обработки'"
            ],
            "application/vnd.google.colaboratory.intrinsic+json": {
              "type": "string"
            }
          },
          "metadata": {},
          "execution_count": 36
        }
      ]
    },
    {
      "cell_type": "code",
      "source": [],
      "metadata": {
        "id": "6Vuo2_3X6gXi"
      },
      "execution_count": null,
      "outputs": []
    }
  ]
}
